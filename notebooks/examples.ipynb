{
 "cells": [
  {
   "cell_type": "code",
   "execution_count": null,
   "id": "673fb602",
   "metadata": {},
   "outputs": [],
   "source": [
    "import sys\n",
    "sys.path.append('/Users/asabyr/Documents/software/bolocalc-space/analyze-bc')\n",
    "sys.path.append('../code')\n",
    "sys.path.append('/Users/asabyr/Documents/software/sd_foregrounds_optimize/')\n",
    "import numpy as np\n",
    "from analyze_bands import AnalyzeBands\n",
    "from analyze_dets import AnalyzeDets\n",
    "from analyze_calib import AnalyzeCalib\n",
    "from analyze_sky import AnalyzeSkyModel\n",
    "from HelpFunctions import *\n",
    "import copy\n",
    "from sky_variations_funcs import *"
   ]
  },
  {
   "cell_type": "markdown",
   "id": "116ad6fb",
   "metadata": {},
   "source": [
    "# Fisher forecast settings"
   ]
  },
  {
   "cell_type": "code",
   "execution_count": null,
   "id": "05b580b0",
   "metadata": {},
   "outputs": [],
   "source": [
    "#define some settings for the fisher forecast\n",
    "snr_settings_mu={}\n",
    "snr_settings_mu['fraction of the sky observed']=1.\n",
    "snr_settings_mu['mission integration [months]']=6.\n",
    "snr_settings_mu['include all foregrounds']=True\n",
    "snr_settings_mu['set priors']=False\n",
    "snr_settings_mu['sensitivity file']=None\n",
    "snr_settings_mu['spectral distortion']='mu'"
   ]
  },
  {
   "cell_type": "markdown",
   "id": "19bdc7de",
   "metadata": {},
   "source": [
    "# Example to analyze band optimization output"
   ]
  },
  {
   "cell_type": "code",
   "execution_count": null,
   "id": "79fe2afd",
   "metadata": {},
   "outputs": [],
   "source": [
    "############# try different frequency ranges and initial widths ############# \n",
    "############# compute snr for config going down to 25%, 50% and at its peak #############\n",
    "snr_settings_mu['hemt amps']=True\n",
    "snr_settings_mu['hemt freq']=10\n",
    "snr_settings_mu['sensitivity file']=None #to ensure it computes noise directly with bolocalc\n",
    "\n",
    "mu_1to2000_bolo10_object=AnalyzeBands(filename='../files/mu_1to2000_width1_snr25_bolo10_optimized_bands.txt',\n",
    "                             snr_settings=snr_settings_mu,\n",
    "                             min_freq_1=1, max_freq_1=10, dfreq_1=1, freq_step_1=100,\n",
    "                            min_freq_2=10, max_freq_2=2000, dfreq_2=3, freq_step_2=100)\n",
    "#reads optimized bands\n",
    "mu_1to2000_bolo10_025=mu_1to2000_bolo10_object.read_optimized_bands()\n",
    "\n",
    "#finds bands at specified threshold\n",
    "mu_1to2000_bolo10_05=mu_1to2000_bolo10_object.read_thresh_bands(thresh=0.5)\n",
    "\n",
    "#find bands at the peak\n",
    "mu_1to2000_bolo10_peak=mu_1to2000_bolo10_object.read_peak_bands()\n",
    "\n",
    "#in this case, the three are all the same; but that is not always the case\n",
    "#the output dictionaries contain \"bands\", \"freqs\", \"dets\"-- just array of ones\n",
    "#\"noise\" (note this is not used anywhere and computes noise for 6 months, fsky=1), \"snr_cost\" \n"
   ]
  },
  {
   "cell_type": "code",
   "execution_count": null,
   "id": "0a76282e",
   "metadata": {},
   "outputs": [],
   "source": [
    "#see what the snr we get using 100 detectors per band, for example\n",
    "#now we can specify the pre-computed NET sensitivity file to make the computation file\n",
    "snr_settings_mu['sensitivity file']='../files/mu_1to2000_width1_snr25_bolo10_raw_sensitivity.txt'#this is NET noise\n",
    "snr_settings_mu['bolocalc file prefix']='none'\n",
    "\n",
    "snr_cost_max_mu_1to2000=calc_fisher(snr_settings_mu, mu_1to2000_bolo10_025['bands'], \n",
    "                                    100.*mu_1to2000_bolo10_025['dets'])\n",
    "print(snr_cost_max_mu_1to2000[0])"
   ]
  },
  {
   "cell_type": "markdown",
   "id": "42e96815",
   "metadata": {},
   "source": [
    "# Example to analyze detector optimization output"
   ]
  },
  {
   "cell_type": "code",
   "execution_count": null,
   "id": "91ac1b81",
   "metadata": {},
   "outputs": [],
   "source": [
    "#this step can be slow\n",
    "#requires 30 \"mu_1to2000_width1_snr25_bolo10SNRs_run13_*.txt\" files\n",
    "# and \"mu_1to2000_width1_snr25_bolo10_ndet_combinations_run13.txt\" \n",
    "# (these are too large to include in the repository but could be generated using setup_detector_optimization.py + run_detector_optimization.py\n",
    "# and the provided ini file)\n",
    "\n",
    "mu_1to2000_bolo10_run13=AnalyzeDets('mu_1to2000_width1_snr25_bolo10', run=13, nfiles=30)\n"
   ]
  },
  {
   "cell_type": "code",
   "execution_count": null,
   "id": "91ec6b4c",
   "metadata": {},
   "outputs": [],
   "source": [
    "#can filter by required snr or focal plane range\n",
    "mu_1to2000_SNR5_inds_run13=mu_1to2000_bolo10_run13.filter_SNR(req_snr=5.0)\n",
    "mu_1to2000_inds_run13_cost=mu_1to2000_bolo10_run13.filter_cost(req_cost=[0,0.7])\n",
    "# mu_1to2000_bolo10_run13.snrs_area[:, 0] contains SNRs\n",
    "# mu_1to2000_bolo10_run13.snrs_area[:, 1] contains focal plane area\n",
    "# mu_1to2000_bolo10_run13.dets contains detector combinations "
   ]
  },
  {
   "cell_type": "markdown",
   "id": "a5637b42",
   "metadata": {},
   "source": [
    "# Example to analyze calibration output "
   ]
  },
  {
   "cell_type": "code",
   "execution_count": null,
   "id": "ddb71cfd",
   "metadata": {},
   "outputs": [],
   "source": [
    "#0.01, 0.001, 0.001 muK_RJ calibration for 16-band set-up\n",
    "mu_1to2000_bolo10_run30=AnalyzeCalib('mu_1to2000_width1_snr25_bolo10', run=30, nfiles=1)\n",
    "mu_1to2000_bolo10_run30.maximum_bias()\n",
    "#contains mu_1to2000_bolo10_run30.bias and mu_1to2000_bolo10_run30.delta_I; bias is listed in both % and sigma\n",
    "#delta_I is the calibration uncertainty (or any other systematic shift!)"
   ]
  },
  {
   "cell_type": "code",
   "execution_count": null,
   "id": "cbceff84",
   "metadata": {},
   "outputs": [],
   "source": [
    "#0.01, 0.001, 0.001 muK_RJ calibration for 34-band set-up\n",
    "mu_1to2000_bolo10_run35=AnalyzeCalib('mu_1to2000_width1_snr25_bolo10_34bands', run=35, nfiles=1)\n",
    "mu_1to2000_bolo10_run35.maximum_bias()\n"
   ]
  },
  {
   "cell_type": "markdown",
   "id": "4fadf825",
   "metadata": {},
   "source": [
    "# Example to analyze sky model variation output "
   ]
  },
  {
   "cell_type": "code",
   "execution_count": null,
   "id": "bce803e6",
   "metadata": {},
   "outputs": [],
   "source": [
    "mu_1to2000_bolo10_run16=AnalyzeSkyModel('mu_1to2000_width1_snr25_bolo10', run=16, nfiles=1, NaNtozero=True)\n",
    "snr_bias, snr_params=mu_1to2000_bolo10_run16.maximum_snr_drop()\n",
    "#containts mu_1to2000_bolo10_run16.snr, mu_1to2000_bolo10_run16.params_snr as well as sorted versions \n",
    "#can also compute maximum_snr_increase\n",
    "\n",
    "mu_1to2000_bolo10_run18=AnalyzeSkyModel('mu_1to2000_width1_snr25_bolo10_34bands', run=18, nfiles=1, NaNtozero=True)\n",
    "snr_bias, snr_params=mu_1to2000_bolo10_run18.maximum_snr_drop()\n"
   ]
  }
 ],
 "metadata": {
  "kernelspec": {
   "display_name": "specter",
   "language": "python",
   "name": "specter"
  },
  "language_info": {
   "codemirror_mode": {
    "name": "ipython",
    "version": 3
   },
   "file_extension": ".py",
   "mimetype": "text/x-python",
   "name": "python",
   "nbconvert_exporter": "python",
   "pygments_lexer": "ipython3",
   "version": "3.8.13"
  }
 },
 "nbformat": 4,
 "nbformat_minor": 5
}
